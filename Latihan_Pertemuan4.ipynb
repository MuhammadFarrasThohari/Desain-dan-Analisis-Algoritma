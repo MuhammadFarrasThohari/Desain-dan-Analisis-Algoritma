{
  "nbformat": 4,
  "nbformat_minor": 0,
  "metadata": {
    "colab": {
      "provenance": [],
      "authorship_tag": "ABX9TyMvth+UEqmcHrBJMGEezzG6",
      "include_colab_link": true
    },
    "kernelspec": {
      "name": "python3",
      "display_name": "Python 3"
    },
    "language_info": {
      "name": "python"
    }
  },
  "cells": [
    {
      "cell_type": "markdown",
      "metadata": {
        "id": "view-in-github",
        "colab_type": "text"
      },
      "source": [
        "<a href=\"https://colab.research.google.com/github/MuhammadFarrasThohari/Desain-dan-Analisis-Algoritma/blob/master/Latihan_Pertemuan4.ipynb\" target=\"_parent\"><img src=\"https://colab.research.google.com/assets/colab-badge.svg\" alt=\"Open In Colab\"/></a>"
      ]
    },
    {
      "cell_type": "markdown",
      "source": [
        "# Latihan Swap\n"
      ],
      "metadata": {
        "id": "yLn2z6hT3diO"
      }
    },
    {
      "cell_type": "code",
      "execution_count": null,
      "metadata": {
        "id": "gMRyeKUj3KZY"
      },
      "outputs": [],
      "source": [
        "var1 = 1\n",
        "var2 = 2\n",
        "var3 = 3\n",
        "\n"
      ]
    },
    {
      "cell_type": "markdown",
      "source": [
        "# Latihan Bubble Sort\n"
      ],
      "metadata": {
        "id": "ivCw8zpc3zEP"
      }
    },
    {
      "cell_type": "code",
      "source": [
        "def bubbleSort(list):\n",
        "  lastElementIndex = len(list) -1\n",
        "  # print(lastElementIndex)\n",
        "  for passNo in range (lastElementIndex, 0, -1):\n",
        "    for idx in range(lastElementIndex):\n",
        "      if list[idx] > list[idx + 1]:\n",
        "        list[idx],list[idx + 1] = list[idx + 1],list[idx]\n",
        "  return list\n",
        "\n",
        "list = [100, 20, 60, 90, 40, 30, 10]\n",
        "bubbleSort(list)"
      ],
      "metadata": {
        "colab": {
          "base_uri": "https://localhost:8080/"
        },
        "id": "2jNEpZzO31xQ",
        "outputId": "8fc4c5dd-705c-4b67-f60e-385e03e4169e"
      },
      "execution_count": 5,
      "outputs": [
        {
          "output_type": "execute_result",
          "data": {
            "text/plain": [
              "[10, 20, 30, 40, 60, 90, 100]"
            ]
          },
          "metadata": {},
          "execution_count": 5
        }
      ]
    },
    {
      "cell_type": "markdown",
      "source": [
        "# Latihan Insertion Sort"
      ],
      "metadata": {
        "id": "tHJqpI2b7Kts"
      }
    },
    {
      "cell_type": "code",
      "source": [
        "def insertionSort(list):\n",
        "  for i in range(1, len(list)):\n",
        "    j = i - 1\n",
        "    next = list[i]\n",
        "    while (list[j] > next) and (j >= 0):\n",
        "      list[j + 1] = list[j]\n",
        "      j = j - 1\n",
        "    list[j + 1] = next\n",
        "  return list\n",
        "\n",
        "list = [89, 12, 57, 16, 25, 11, 75]\n",
        "insertionSort(list)"
      ],
      "metadata": {
        "colab": {
          "base_uri": "https://localhost:8080/"
        },
        "id": "HdQbPAkC7Sst",
        "outputId": "2f6ac974-e2e0-4680-d19b-f4e4a43181f8"
      },
      "execution_count": 9,
      "outputs": [
        {
          "output_type": "execute_result",
          "data": {
            "text/plain": [
              "[11, 12, 16, 25, 57, 75, 89]"
            ]
          },
          "metadata": {},
          "execution_count": 9
        }
      ]
    },
    {
      "cell_type": "markdown",
      "source": [
        "# Latihan Selection Sort"
      ],
      "metadata": {
        "id": "AbERqydV_K19"
      }
    },
    {
      "cell_type": "code",
      "source": [
        "def selectionSort(list):\n",
        "  for fill_slot in range(len(list) - 1, 0, -1):\n",
        "    max_index = 0\n",
        "    for location in range(1, fill_slot + 1):\n",
        "      if list[location] > list[max_index]:\n",
        "        max_index = location\n",
        "    list[fill_slot], list[max_index] = list[max_index], list[fill_slot]\n",
        "  return list\n",
        "\n",
        "list = [89, 12, 57, 16, 25]\n",
        "selectionSort(list)"
      ],
      "metadata": {
        "colab": {
          "base_uri": "https://localhost:8080/"
        },
        "id": "J3Ie9chZ_NVd",
        "outputId": "86dfd15e-6523-480b-cb58-2ba0c5710e40"
      },
      "execution_count": 10,
      "outputs": [
        {
          "output_type": "execute_result",
          "data": {
            "text/plain": [
              "[12, 16, 25, 57, 89]"
            ]
          },
          "metadata": {},
          "execution_count": 10
        }
      ]
    },
    {
      "cell_type": "markdown",
      "source": [
        "#Latihan Linear Search"
      ],
      "metadata": {
        "id": "XLbYVcXKEzT4"
      }
    },
    {
      "cell_type": "code",
      "source": [
        "def linearSearch(list, item):\n",
        "  index = 0\n",
        "  found = \"item tidak ada\"\n",
        "  while index < len(list) and (found == \"item tidak ada\"):\n",
        "    if list[index] == item:\n",
        "      found = \"item ada\"\n",
        "    else:\n",
        "      index = index + 1\n",
        "  return found\n",
        "\n",
        "list = ['y', 'u', 'i', 'w', 'o', 'a', 'q', 'u', 'j', 'p']\n",
        "linearSearch(list, 'a')"
      ],
      "metadata": {
        "colab": {
          "base_uri": "https://localhost:8080/",
          "height": 36
        },
        "id": "NrYoddF0FbSk",
        "outputId": "eafec8e6-439d-4f08-916d-853aca6f7da1"
      },
      "execution_count": 19,
      "outputs": [
        {
          "output_type": "execute_result",
          "data": {
            "text/plain": [
              "'item ada'"
            ],
            "application/vnd.google.colaboratory.intrinsic+json": {
              "type": "string"
            }
          },
          "metadata": {},
          "execution_count": 19
        }
      ]
    },
    {
      "cell_type": "markdown",
      "source": [
        "#Latihan Binary Search"
      ],
      "metadata": {
        "id": "ICpGwMV9HZkX"
      }
    },
    {
      "cell_type": "code",
      "source": [
        "def BinarySearch(list, item):\n",
        "  first = 0\n",
        "  last = len(list) - 1\n",
        "  found = False\n",
        "  hasil = \"item tidak ditemukan\"\n",
        "  while first <= last and not found:\n",
        "    midpoint = (first + last) // 2\n",
        "    if list[midpoint] == item:\n",
        "      found = True\n",
        "      hasil = \"hasil ditemukan\"\n",
        "    else:\n",
        "      if item < list[midpoint]:\n",
        "        last = midpoint - 1\n",
        "      else:\n",
        "        first = midpoint + 1\n",
        "  return hasil\n",
        "\n",
        "list = ['y', 'u', 'i', 'w', 'o', 'a', 'q', 'u', 'j', 'p']\n",
        "bubbleSort(list)\n",
        "BinarySearch(list, 'a')"
      ],
      "metadata": {
        "colab": {
          "base_uri": "https://localhost:8080/",
          "height": 36
        },
        "id": "9M59j5WfHfgv",
        "outputId": "a12edec1-057e-44ce-a268-0cded2258454"
      },
      "execution_count": 41,
      "outputs": [
        {
          "output_type": "execute_result",
          "data": {
            "text/plain": [
              "'hasil ditemukan'"
            ],
            "application/vnd.google.colaboratory.intrinsic+json": {
              "type": "string"
            }
          },
          "metadata": {},
          "execution_count": 41
        }
      ]
    },
    {
      "cell_type": "markdown",
      "source": [
        "#Latihan Interpolation Search"
      ],
      "metadata": {
        "id": "Uit_mykfNI1q"
      }
    },
    {
      "cell_type": "code",
      "source": [
        "def IntPolSearch(arr, x):\n",
        "    idx0 = 0\n",
        "    idxn = len(arr) - 1\n",
        "    found = False\n",
        "\n",
        "    while idx0 <= idxn:\n",
        "        mid = idx0 + (idxn - idx0) // 2\n",
        "\n",
        "        if arr[mid] == x:\n",
        "            found = True\n",
        "            return found\n",
        "\n",
        "        if arr[mid] < x:\n",
        "            idx0 = mid + 1\n",
        "        else:\n",
        "            idxn = mid - 1  # Update idxn to search in the left half of the array\n",
        "\n",
        "    return found\n",
        "\n",
        "\n",
        "list = ['y', 'u', 'i', 'w', 'o', 'a', 'q', 'u', 'j', 'p']\n",
        "bubbleSort(list)\n",
        "IntPolSearch(list, 'u')"
      ],
      "metadata": {
        "colab": {
          "base_uri": "https://localhost:8080/"
        },
        "id": "t5K8ouEGOOyd",
        "outputId": "ccb693e8-960a-4563-ef78-6f96e87201d1"
      },
      "execution_count": 53,
      "outputs": [
        {
          "output_type": "execute_result",
          "data": {
            "text/plain": [
              "True"
            ]
          },
          "metadata": {},
          "execution_count": 53
        }
      ]
    }
  ]
}