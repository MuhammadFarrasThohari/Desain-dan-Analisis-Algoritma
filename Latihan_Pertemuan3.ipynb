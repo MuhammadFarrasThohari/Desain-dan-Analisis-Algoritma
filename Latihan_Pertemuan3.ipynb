{
  "nbformat": 4,
  "nbformat_minor": 0,
  "metadata": {
    "colab": {
      "provenance": [],
      "authorship_tag": "ABX9TyMkYmzLLbbmV2Om9oobJPu+",
      "include_colab_link": true
    },
    "kernelspec": {
      "name": "python3",
      "display_name": "Python 3"
    },
    "language_info": {
      "name": "python"
    }
  },
  "cells": [
    {
      "cell_type": "markdown",
      "metadata": {
        "id": "view-in-github",
        "colab_type": "text"
      },
      "source": [
        "<a href=\"https://colab.research.google.com/github/MuhammadFarrasThohari/Desain-dan-Analisis-Algoritma/blob/master/Latihan_Pertemuan3.ipynb\" target=\"_parent\"><img src=\"https://colab.research.google.com/assets/colab-badge.svg\" alt=\"Open In Colab\"/></a>"
      ]
    },
    {
      "cell_type": "markdown",
      "source": [
        "# LATIHAN PERTEMUAN 3"
      ],
      "metadata": {
        "id": "E1Yv4t_SDgYo"
      }
    },
    {
      "cell_type": "code",
      "source": [
        "import datetime"
      ],
      "metadata": {
        "id": "Xel1JOb823im"
      },
      "execution_count": null,
      "outputs": []
    },
    {
      "cell_type": "code",
      "source": [
        "z = str(datetime.date.today())\n"
      ],
      "metadata": {
        "id": "K_APm3T4-3Yi"
      },
      "execution_count": null,
      "outputs": []
    },
    {
      "cell_type": "code",
      "source": [
        "x = datetime.datetime.today()\n",
        "y = (x.strftime(\"%B %d %Y\"))"
      ],
      "metadata": {
        "id": "PAen0eAc3FkH"
      },
      "execution_count": null,
      "outputs": []
    },
    {
      "cell_type": "code",
      "execution_count": null,
      "metadata": {
        "colab": {
          "base_uri": "https://localhost:8080/"
        },
        "id": "Ie82TiuS0qjn",
        "outputId": "cf46f6ea-4daf-43bb-d99c-2706f2f4102b"
      },
      "outputs": [
        {
          "output_type": "stream",
          "name": "stdout",
          "text": [
            "['John', 33, 'Toronto', True]\n"
          ]
        }
      ],
      "source": [
        "aList = [\"John\", 33, \"Toronto\", True]\n",
        "print(aList)"
      ]
    },
    {
      "cell_type": "code",
      "source": [
        "Mahasiswa = [\"Muhammad Farras Thohari Ramadhan\", \"2022071063\", \"Informatika\", \"Desain dan Analisis Algoritma\", z, \"UPJ\"]\n",
        "print(Mahasiswa)"
      ],
      "metadata": {
        "colab": {
          "base_uri": "https://localhost:8080/"
        },
        "id": "OzblwBRA1Fmn",
        "outputId": "ab8fa10a-bf61-4887-cf77-ab78554ee861"
      },
      "execution_count": null,
      "outputs": [
        {
          "output_type": "stream",
          "name": "stdout",
          "text": [
            "['Muhammad Farras Thohari Ramadhan', '2022071063', 'Informatika', 'Desain dan Analisis Algoritma', '2023-09-11', 'UPJ']\n"
          ]
        }
      ]
    },
    {
      "cell_type": "code",
      "source": [
        "bin_colors = [\"Red\", \"Green\", \"Blue\", \"Yellow\"]\n",
        "print(bin_colors)"
      ],
      "metadata": {
        "colab": {
          "base_uri": "https://localhost:8080/"
        },
        "id": "dmoFZRH49SuE",
        "outputId": "2ca0048c-5a4a-4b92-a70d-6cfff91e5f74"
      },
      "execution_count": null,
      "outputs": [
        {
          "output_type": "stream",
          "name": "stdout",
          "text": [
            "['Red', 'Green', 'Blue', 'Yellow']\n"
          ]
        }
      ]
    },
    {
      "cell_type": "code",
      "source": [
        "#Latihan mencetak list menggunakan Index\n",
        "print(Mahasiswa[1])\n",
        "print(Mahasiswa[5])"
      ],
      "metadata": {
        "colab": {
          "base_uri": "https://localhost:8080/"
        },
        "id": "ywIfD7vi_pcy",
        "outputId": "5eec4476-5b1e-4373-f2dd-54903d903484"
      },
      "execution_count": null,
      "outputs": [
        {
          "output_type": "stream",
          "name": "stdout",
          "text": [
            "2022071063\n",
            "UPJ\n"
          ]
        }
      ]
    },
    {
      "cell_type": "code",
      "source": [
        "#Latihan Slicing Index\n",
        "print(bin_colors[0:2])\n",
        "print(bin_colors[0:4])\n",
        "print(bin_colors[2:])\n",
        "print(bin_colors[:2])"
      ],
      "metadata": {
        "colab": {
          "base_uri": "https://localhost:8080/"
        },
        "id": "44lgqmCfAeiC",
        "outputId": "4bb0e912-76bc-4de0-f732-09c4f109dc3c"
      },
      "execution_count": null,
      "outputs": [
        {
          "output_type": "stream",
          "name": "stdout",
          "text": [
            "['Red', 'Green']\n",
            "['Red', 'Green', 'Blue', 'Yellow']\n",
            "['Blue', 'Yellow']\n",
            "['Red', 'Green']\n"
          ]
        }
      ]
    },
    {
      "cell_type": "code",
      "source": [
        "#Latihan mencetak ist mahasiswa menggunakan slicing\n",
        "print(Mahasiswa[1:3])\n",
        "print(Mahasiswa[1:2])\n",
        "print(Mahasiswa[2:3])"
      ],
      "metadata": {
        "colab": {
          "base_uri": "https://localhost:8080/"
        },
        "id": "vGGOrD1rDRhB",
        "outputId": "0ccaf420-2b25-49e4-fc27-768bd221c59f"
      },
      "execution_count": null,
      "outputs": [
        {
          "output_type": "stream",
          "name": "stdout",
          "text": [
            "[2022071063, 'Informatika']\n",
            "[2022071063]\n",
            "['Informatika']\n"
          ]
        }
      ]
    },
    {
      "cell_type": "code",
      "source": [
        "for aColor in bin_colors:\n",
        "  print(\"Square \" + aColor)"
      ],
      "metadata": {
        "colab": {
          "base_uri": "https://localhost:8080/"
        },
        "id": "eDK-H51VKbHs",
        "outputId": "b2f450eb-598e-4518-cd88-1a0d9d73fb28"
      },
      "execution_count": null,
      "outputs": [
        {
          "output_type": "stream",
          "name": "stdout",
          "text": [
            "Square Red\n",
            "Square Green\n",
            "Square Blue\n",
            "Square Yellow\n"
          ]
        }
      ]
    },
    {
      "cell_type": "code",
      "source": [
        "for aMahasiswa in Mahasiswa:\n",
        "  print(\"UPJ \" + aMahasiswa)"
      ],
      "metadata": {
        "colab": {
          "base_uri": "https://localhost:8080/"
        },
        "id": "Jhg9K86-L7eL",
        "outputId": "c89814c4-4913-4ef0-b184-5a433488e8da"
      },
      "execution_count": null,
      "outputs": [
        {
          "output_type": "stream",
          "name": "stdout",
          "text": [
            "UPJ Muhammad Farras Thohari Ramadhan\n",
            "UPJ 2022071063\n",
            "UPJ Informatika\n",
            "UPJ Desain dan Analisis Algoritma\n",
            "UPJ 2023-09-11\n",
            "UPJ UPJ\n"
          ]
        }
      ]
    },
    {
      "cell_type": "code",
      "source": [
        "#Tuple\n",
        "bin_colors = (\"Red\", \"Green\", \"Blue\", \"Yellow\")\n",
        "print(bin_colors[1])"
      ],
      "metadata": {
        "colab": {
          "base_uri": "https://localhost:8080/"
        },
        "id": "xovr0kw5RGhJ",
        "outputId": "b06eae78-96d5-44c8-bc43-45e35b095ff0"
      },
      "execution_count": null,
      "outputs": [
        {
          "output_type": "stream",
          "name": "stdout",
          "text": [
            "Green\n"
          ]
        }
      ]
    },
    {
      "cell_type": "code",
      "source": [
        "#Latihan Tuple\n",
        "UPJ = (\"Universitas\", \"Pembangunan\", \"Jaya\")\n",
        "print(UPJ)"
      ],
      "metadata": {
        "colab": {
          "base_uri": "https://localhost:8080/"
        },
        "id": "L2s-_7j7Xn_F",
        "outputId": "74333293-2390-40e1-86c3-6e9380362a58"
      },
      "execution_count": null,
      "outputs": [
        {
          "output_type": "stream",
          "name": "stdout",
          "text": [
            "('Universitas', 'Pembangunan', 'Jaya')\n"
          ]
        }
      ]
    },
    {
      "cell_type": "code",
      "source": [
        "#Latihan Nested Tuple\n",
        "pertama = (100)\n",
        "kedua = (200, 400, 600)\n",
        "ketiga = (300)\n",
        "keempat = (400, 800)\n",
        "nested_tuple = (pertama, kedua, ketiga, keempat)\n",
        "print(nested_tuple)"
      ],
      "metadata": {
        "colab": {
          "base_uri": "https://localhost:8080/"
        },
        "id": "Y7iVU9KlX6MF",
        "outputId": "c1f06f3c-98d9-4a0a-f1db-f1c8cf236ea0"
      },
      "execution_count": null,
      "outputs": [
        {
          "output_type": "stream",
          "name": "stdout",
          "text": [
            "(100, (200, 400, 600), 300, (400, 800))\n"
          ]
        }
      ]
    },
    {
      "cell_type": "code",
      "source": [
        "#Dictionary\n",
        "bin_colors = {\n",
        "    \"manual_color\": \"Yellow\",\n",
        "    \"approved_color\": \"Green\",\n",
        "    \"refuse_color\": \"Red\"\n",
        "}\n",
        "print(bin_colors)"
      ],
      "metadata": {
        "colab": {
          "base_uri": "https://localhost:8080/"
        },
        "id": "aKXTdOyiYjP0",
        "outputId": "fd920fea-5f81-40b1-e801-e2b9da7b151e"
      },
      "execution_count": null,
      "outputs": [
        {
          "output_type": "stream",
          "name": "stdout",
          "text": [
            "{'manual_color': 'Yellow', 'approved_color': 'Green', 'refuse_color': 'Red'}\n"
          ]
        }
      ]
    },
    {
      "cell_type": "code",
      "source": [
        "#Latihan Dictionary\n",
        "dict_mahasiswa = {\n",
        "    \"Nama\": \"Muhammad Farras Thohari Ramadhan\",\n",
        "    \"NIM\": \"2022071063\",\n",
        "    \"Prodi\": \"Informatika\",\n",
        "    \"Universitas\": \"UPJ\"\n",
        "}\n",
        "print(dict_mahasiswa)"
      ],
      "metadata": {
        "colab": {
          "base_uri": "https://localhost:8080/"
        },
        "id": "xLIrECV0ZByU",
        "outputId": "7a9af666-f876-4313-c83b-4a4d04624a61"
      },
      "execution_count": null,
      "outputs": [
        {
          "output_type": "stream",
          "name": "stdout",
          "text": [
            "{'Nama': 'Muhammad Farras Thohari Ramadhan', 'NIM': '2022071063', 'Prodi': 'Informatika', 'Universitas': 'UPJ'}\n"
          ]
        }
      ]
    },
    {
      "cell_type": "code",
      "source": [
        "#Set\n",
        "set_01 = {1,4,5,6,2}\n",
        "print(set_01)"
      ],
      "metadata": {
        "colab": {
          "base_uri": "https://localhost:8080/"
        },
        "id": "61A22qVkZhlU",
        "outputId": "41161794-9ca0-43c2-8679-247aae1f58be"
      },
      "execution_count": null,
      "outputs": [
        {
          "output_type": "stream",
          "name": "stdout",
          "text": [
            "{1, 2, 4, 5, 6}\n"
          ]
        }
      ]
    },
    {
      "cell_type": "code",
      "source": [
        "#Latihan set\n",
        "red = {\"leaves\", \"fire hydrant\", \"blood\"}\n",
        "yellow = {\"leaves\", \"fire hydrant\", \"rose\", \"dandelion\"}\n",
        "\n",
        "print(yellow|red)\n",
        "print(yellow&red)"
      ],
      "metadata": {
        "colab": {
          "base_uri": "https://localhost:8080/"
        },
        "id": "aPpKQUkjagdE",
        "outputId": "272648f2-f4ba-411a-fbb8-67ac6e01db31"
      },
      "execution_count": null,
      "outputs": [
        {
          "output_type": "stream",
          "name": "stdout",
          "text": [
            "{'rose', 'dandelion', 'fire hydrant', 'leaves', 'blood'}\n",
            "{'fire hydrant', 'leaves'}\n"
          ]
        }
      ]
    },
    {
      "cell_type": "code",
      "source": [
        "#Data Frame\n",
        "import pandas as pd\n",
        "df = pd.DataFrame([\n",
        "    [1, \"Fares\", 32, True],\n",
        "    [2, \"Elena\", 23, False],\n",
        "    [3, \"Steven\", 40, True]]\n",
        "    )\n",
        "\n",
        "print(df)"
      ],
      "metadata": {
        "colab": {
          "base_uri": "https://localhost:8080/"
        },
        "id": "Hb-LuJxXUExn",
        "outputId": "418f5d88-8849-463e-fefe-0199ac3e2dde"
      },
      "execution_count": null,
      "outputs": [
        {
          "output_type": "stream",
          "name": "stdout",
          "text": [
            "   0       1   2      3\n",
            "0  1   Fares  32   True\n",
            "1  2   Elena  23  False\n",
            "2  3  Steven  40   True\n"
          ]
        }
      ]
    },
    {
      "cell_type": "code",
      "source": [
        "#Latihan Data Frame\n",
        "data = pd.DataFrame([\n",
        "    [1, \"Informatika\", 50, 30, 20],\n",
        "    [2, \"Sistem Informasi\", 55, 30, 25],\n",
        "    [3, \"Teknik Sipil\", 40, 30, 10],\n",
        "])\n",
        "data.columns = [\"No\", \"Prodi\", \"Mahasiswa\", \"Laki-Laki\", \"Perempuan\"]\n",
        "print(data)"
      ],
      "metadata": {
        "colab": {
          "base_uri": "https://localhost:8080/"
        },
        "id": "HjIn-76qcFYT",
        "outputId": "000eb254-dbf6-4f64-a829-6f2e9966ad33"
      },
      "execution_count": null,
      "outputs": [
        {
          "output_type": "stream",
          "name": "stdout",
          "text": [
            "   No             Prodi  Mahasiswa  Laki-Laki  Perempuan\n",
            "0   1       Informatika         50         30         20\n",
            "1   2  Sistem Informasi         55         30         25\n",
            "2   3      Teknik Sipil         40         30         10\n"
          ]
        }
      ]
    },
    {
      "cell_type": "code",
      "source": [
        "#Matrix\n",
        "import numpy as np\n",
        "my_matrix = np.array([[11,12,13], [21,22,23], [31,32,33]])\n",
        "print(my_matrix)"
      ],
      "metadata": {
        "colab": {
          "base_uri": "https://localhost:8080/"
        },
        "id": "wKDxvalKdVmj",
        "outputId": "585fa04a-0995-4885-98ad-4b3f77ca3758"
      },
      "execution_count": null,
      "outputs": [
        {
          "output_type": "stream",
          "name": "stdout",
          "text": [
            "[[11 12 13]\n",
            " [21 22 23]\n",
            " [31 32 33]]\n"
          ]
        }
      ]
    },
    {
      "cell_type": "code",
      "source": [
        "#Latihan Matrix\n",
        "Matrix = np.array([[100,200,300], [700,600,500], [900, 1000, 800]])\n",
        "print(np.transpose(Matrix))"
      ],
      "metadata": {
        "colab": {
          "base_uri": "https://localhost:8080/"
        },
        "id": "QXM7VN9aeFBS",
        "outputId": "c8d1db40-7dec-414f-fc0a-8ceb845b4dcb"
      },
      "execution_count": null,
      "outputs": [
        {
          "output_type": "stream",
          "name": "stdout",
          "text": [
            "[[ 100  700  900]\n",
            " [ 200  600 1000]\n",
            " [ 300  500  800]]\n"
          ]
        }
      ]
    }
  ]
}