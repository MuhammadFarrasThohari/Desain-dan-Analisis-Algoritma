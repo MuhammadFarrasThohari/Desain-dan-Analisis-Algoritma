{
  "nbformat": 4,
  "nbformat_minor": 0,
  "metadata": {
    "colab": {
      "provenance": [],
      "authorship_tag": "ABX9TyMelrz7UTtcn0MMeHOxHqkx",
      "include_colab_link": true
    },
    "kernelspec": {
      "name": "python3",
      "display_name": "Python 3"
    },
    "language_info": {
      "name": "python"
    }
  },
  "cells": [
    {
      "cell_type": "markdown",
      "metadata": {
        "id": "view-in-github",
        "colab_type": "text"
      },
      "source": [
        "<a href=\"https://colab.research.google.com/github/MuhammadFarrasThohari/Desain-dan-Analisis-Algoritma/blob/master/Latihan_Pertemuan7.ipynb\" target=\"_parent\"><img src=\"https://colab.research.google.com/assets/colab-badge.svg\" alt=\"Open In Colab\"/></a>"
      ]
    },
    {
      "cell_type": "markdown",
      "source": [
        "# PERKALIAN MATRIX"
      ],
      "metadata": {
        "id": "LZVlBN3RRfNi"
      }
    },
    {
      "cell_type": "code",
      "execution_count": null,
      "metadata": {
        "colab": {
          "base_uri": "https://localhost:8080/"
        },
        "id": "fkPKsXAhBtqX",
        "outputId": "fbf49c74-b7ab-47e1-ae44-2da670e18b98"
      },
      "outputs": [
        {
          "output_type": "stream",
          "name": "stdout",
          "text": [
            "34 28 \n",
            "26 12 \n"
          ]
        }
      ],
      "source": [
        "# Perkalian matrix\n",
        "\n",
        "mat1 = [\n",
        "    [2,4],\n",
        "    [3,1]\n",
        "]\n",
        "\n",
        "mat2 = [\n",
        "    [7,2],\n",
        "    [5,6]\n",
        "]\n",
        "\n",
        "mat3 = []\n",
        "\n",
        "for x in range(0,len(mat1)):\n",
        "  row = []\n",
        "  for y in range(0,len(mat1[0])):\n",
        "    total = 0\n",
        "    for z in range(0,len(mat1)):\n",
        "      total = total + (mat1[x][z] * mat2[z][y])\n",
        "    row.append(total)\n",
        "  mat3.append(row)\n",
        "\n",
        "for x in range(0, len(mat3)):\n",
        "  for y in range(0, len(mat3[0])):\n",
        "    print(mat3[x][y], end=' ')\n",
        "  print()"
      ]
    },
    {
      "cell_type": "markdown",
      "source": [
        "# FAKTORIAL"
      ],
      "metadata": {
        "id": "_XramJTDRk9S"
      }
    },
    {
      "cell_type": "code",
      "source": [
        "def faktorial(n):\n",
        "  if(n==1):\n",
        "    return n\n",
        "  return faktorial(n-1)*n\n",
        "\n",
        "n = int(input(\"Masukkan nilai n: \"))\n",
        "print(f\"hasil dari {n}!: \", faktorial(n))"
      ],
      "metadata": {
        "colab": {
          "base_uri": "https://localhost:8080/"
        },
        "id": "PvmZeo4XG3Df",
        "outputId": "6a1a11f0-ce08-4cf6-d4fa-4dc3af5d06fb"
      },
      "execution_count": null,
      "outputs": [
        {
          "output_type": "stream",
          "name": "stdout",
          "text": [
            "Masukkan nilai n: 4\n",
            "hasil dari 4!:  24\n"
          ]
        }
      ]
    },
    {
      "cell_type": "markdown",
      "source": [
        "#NILAI MAKSIMUM"
      ],
      "metadata": {
        "id": "Lm6Ck-LhRn56"
      }
    },
    {
      "cell_type": "code",
      "source": [
        "def nilai_maksimal(deret):\n",
        "  nilai_terbesar = deret[0]\n",
        "\n",
        "  for nilai in deret:\n",
        "    if nilai > nilai_terbesar:\n",
        "      nilai_terbesar = nilai\n",
        "\n",
        "  return nilai_terbesar\n",
        "\n",
        "a = [3, 20, 100, -35, 50]\n",
        "\n",
        "print(a)\n",
        "print(\"nilai terbsear a: \", nilai_maksimal(a))"
      ],
      "metadata": {
        "colab": {
          "base_uri": "https://localhost:8080/"
        },
        "id": "mM-8OnmRHcYC",
        "outputId": "9e4057fc-9a41-4ea7-c73a-ef60dc14d64b"
      },
      "execution_count": null,
      "outputs": [
        {
          "output_type": "stream",
          "name": "stdout",
          "text": [
            "[3, 20, 100, -35, 50]\n",
            "nilai terbsear a:  100\n"
          ]
        }
      ]
    },
    {
      "cell_type": "markdown",
      "source": [
        "# NILAI MINIMUM"
      ],
      "metadata": {
        "id": "C-4tvMWXRuBO"
      }
    },
    {
      "cell_type": "code",
      "source": [
        "def nilai_minimum(deret):\n",
        "  nilai_terkecil = deret[0]\n",
        "\n",
        "  for nilai in deret:\n",
        "    if nilai < nilai_terkecil:\n",
        "      nilai_terkecil = nilai\n",
        "\n",
        "  return nilai_terkecil\n",
        "\n",
        "a = [3, 20, 100, -35, 50]\n",
        "\n",
        "print(a)\n",
        "print(\"nilai terbsear a: \", nilai_minimum(a))"
      ],
      "metadata": {
        "colab": {
          "base_uri": "https://localhost:8080/"
        },
        "outputId": "bf6e2d53-4e88-4c22-95f4-a873d2846035",
        "id": "yOGhB9IqOf-4"
      },
      "execution_count": null,
      "outputs": [
        {
          "output_type": "stream",
          "name": "stdout",
          "text": [
            "[3, 20, 100, -35, 50]\n",
            "nilai terbsear a:  -35\n"
          ]
        }
      ]
    },
    {
      "cell_type": "markdown",
      "source": [
        "# SEQUENTIAL SEARCH"
      ],
      "metadata": {
        "id": "h27i2qoRR2gu"
      }
    },
    {
      "cell_type": "code",
      "source": [
        "def seq_search(alist, item):\n",
        "  pos = 0\n",
        "  found = False\n",
        "\n",
        "  while pos < len(alist) and not found:\n",
        "    if alist[pos] == item:\n",
        "      found = True\n",
        "    else:\n",
        "      pos = pos + 1\n",
        "  return found\n",
        "\n",
        "testlist = [1, 2, 32, 8, 17, 19, 42, 13, 0]\n",
        "print(seq_search(testlist, 3))\n",
        "print(seq_search(testlist, 2))"
      ],
      "metadata": {
        "colab": {
          "base_uri": "https://localhost:8080/"
        },
        "id": "lX5klPrrIPn7",
        "outputId": "011f3ce7-e6ad-4c67-dd4d-9f532c2feefa"
      },
      "execution_count": null,
      "outputs": [
        {
          "output_type": "stream",
          "name": "stdout",
          "text": [
            "False\n",
            "True\n"
          ]
        }
      ]
    },
    {
      "cell_type": "markdown",
      "source": [
        "# BUBLLE SORT"
      ],
      "metadata": {
        "id": "uTHt8b9ZSBOq"
      }
    },
    {
      "cell_type": "code",
      "source": [
        "def bubbleSort(alist):\n",
        "  for passnum in range(len(alist)-1,0,-1):\n",
        "    for i in range(passnum):\n",
        "      if alist[i] > alist[i+1]:\n",
        "        temp = alist[i]\n",
        "        alist[i] = alist[i+1]\n",
        "        alist[i+1] = temp\n",
        "\n",
        "alist = [54, 26, 93, 17, 77, 31, 44, 55, 20]\n",
        "bubbleSort(alist)\n",
        "print(alist)"
      ],
      "metadata": {
        "colab": {
          "base_uri": "https://localhost:8080/"
        },
        "id": "3rgxVHUlJ8gl",
        "outputId": "134635a1-fcfd-4958-c215-5dccfecc3fd1"
      },
      "execution_count": null,
      "outputs": [
        {
          "output_type": "stream",
          "name": "stdout",
          "text": [
            "[17, 20, 26, 31, 44, 54, 55, 77, 93]\n"
          ]
        }
      ]
    },
    {
      "cell_type": "markdown",
      "source": [
        "# NILAI PRIMA"
      ],
      "metadata": {
        "id": "f9xiMUR5SFaO"
      }
    },
    {
      "cell_type": "code",
      "source": [
        "def is_prime(x):\n",
        "  if x <= 1:\n",
        "    return False\n",
        "  for i in range(2, x // 2 + 1):\n",
        "      return False\n",
        "  return True\n",
        "\n",
        "\n",
        "x = int(input(\"Input satu angka bulat: \"))\n",
        "if is_prime(x):\n",
        "  print(x, \"adalah bilangan prima\")\n",
        "else:\n",
        "  print(x, \"bukan bilangan prima\")\n"
      ],
      "metadata": {
        "colab": {
          "base_uri": "https://localhost:8080/"
        },
        "id": "GT73JFo2K6CI",
        "outputId": "e46c5e42-77fe-4cf5-a414-0665034516c3"
      },
      "execution_count": null,
      "outputs": [
        {
          "output_type": "stream",
          "name": "stdout",
          "text": [
            "Input satu angka bulat: 8\n",
            "8 bukan bilangan prima\n"
          ]
        }
      ]
    },
    {
      "cell_type": "markdown",
      "source": [
        "# NILAI POLYNOMIAL"
      ],
      "metadata": {
        "id": "4GASd0BPSHqW"
      }
    },
    {
      "cell_type": "code",
      "source": [
        "def polynomial_py(a, x):\n",
        "  result = 0\n",
        "  for n, a_n in enumerate(a):\n",
        "    x_power_n = 1\n",
        "    for i in range(n):\n",
        "      x_power_n *= x\n",
        "    result += a_n * x_power_n\n",
        "  return result\n",
        "\n",
        "\n",
        "a = [1, 2, 0, 3]\n",
        "x = 1.5\n",
        "result = polynomial_py(a, x)\n",
        "print(result)"
      ],
      "metadata": {
        "colab": {
          "base_uri": "https://localhost:8080/"
        },
        "id": "jj7Q8NrWOY-R",
        "outputId": "04bdbf94-4a0a-4b8c-b2cc-65d70d5d1417"
      },
      "execution_count": null,
      "outputs": [
        {
          "output_type": "stream",
          "name": "stdout",
          "text": [
            "14.125\n"
          ]
        }
      ]
    },
    {
      "cell_type": "markdown",
      "source": [
        "# SUBSTRING"
      ],
      "metadata": {
        "id": "M2pT96UHSLtR"
      }
    },
    {
      "cell_type": "code",
      "source": [
        "test_str = \"GfG is good website\"\n",
        "test_list = [\"GfG\", \"site\", \"CS\", \"Geeks\", \"Tutorial\"]\n",
        "print(\"the original string is: \", test_str)\n",
        "print(\"the original string is: \", str(test_list))\n",
        "res = [sub for sub in test_list if sub in test_str]\n",
        "print(\"The list of found substring: \", str(res))"
      ],
      "metadata": {
        "colab": {
          "base_uri": "https://localhost:8080/"
        },
        "id": "O2iMZ-zQPQD7",
        "outputId": "71bd108a-46be-4e0f-a373-2d67752b3b24"
      },
      "execution_count": null,
      "outputs": [
        {
          "output_type": "stream",
          "name": "stdout",
          "text": [
            "the original string is:  GfG is good website\n",
            "the original string is:  ['GfG', 'site', 'CS', 'Geeks', 'Tutorial']\n",
            "The list of found substring:  ['GfG', 'site']\n"
          ]
        }
      ]
    },
    {
      "cell_type": "code",
      "source": [
        "def pencocokanString(pattern, text):\n",
        "    n = len(pattern)\n",
        "    m = len(text)\n",
        "\n",
        "    i = 0\n",
        "    found = False\n",
        "\n",
        "    while(i <= n-m) and (found == False):\n",
        "        j = 0\n",
        "        while (j < m) and (pattern[i+j] == text[j]):\n",
        "            j += 1\n",
        "\n",
        "        if (j == m):\n",
        "            found = True\n",
        "        else:\n",
        "            i += 1\n",
        "\n",
        "    if (found == True):\n",
        "        idx = i  # Adjusted to 0-based indexing\n",
        "    else:\n",
        "        idx = -1\n",
        "\n",
        "    return idx\n",
        "\n",
        "a = \"Universitas Pembangunan Jaya\"\n",
        "b = \"Pembangunan\"\n",
        "\n",
        "print(pencocokanString(a, b))"
      ],
      "metadata": {
        "colab": {
          "base_uri": "https://localhost:8080/"
        },
        "id": "b9psnOmqe5J0",
        "outputId": "b14b4568-6993-4e1a-db67-bff3f9234214"
      },
      "execution_count": 23,
      "outputs": [
        {
          "output_type": "stream",
          "name": "stdout",
          "text": [
            "12\n"
          ]
        }
      ]
    },
    {
      "cell_type": "markdown",
      "source": [
        "#MENGHITUTNG JARAK"
      ],
      "metadata": {
        "id": "hK8lBQizcucU"
      }
    },
    {
      "cell_type": "code",
      "source": [
        "from math import sqrt\n",
        "from random import randint\n",
        "\n",
        "titik = []\n",
        "\n",
        "n = int(input('Masukkan jumlah titik yang ingin Anda cari jaraknya: '))\n",
        "\n",
        "for i in range(n):\n",
        "    titik.append([randint(0, 100), randint(0, 100)])\n",
        "\n",
        "print(\"Titik: \\n\", titik)\n",
        "\n",
        "def hitung_jarak(lis):\n",
        "    lis_jarak = []\n",
        "\n",
        "    for i in range(len(lis) - 1):\n",
        "        for j in range(i + 1, len(lis)):\n",
        "            jarak = sqrt((lis[i][0] - lis[j][0]) ** 2 + (lis[i][1] - lis[j][1]) ** 2)\n",
        "            lis_jarak.append(jarak)\n",
        "            print(\"Titik:\", lis[i], \"Titik:\", lis[j], ' ', jarak)\n",
        "\n",
        "    return min(lis_jarak)\n",
        "\n",
        "print('Jarak terdekat: \\n', hitung_jarak(titik))\n",
        ""
      ],
      "metadata": {
        "colab": {
          "base_uri": "https://localhost:8080/"
        },
        "id": "BmuvceBZcxnl",
        "outputId": "3833479e-8ed7-4304-8bd1-84c559ab164c"
      },
      "execution_count": 24,
      "outputs": [
        {
          "output_type": "stream",
          "name": "stdout",
          "text": [
            "Masukkan jumlah titik yang ingin Anda cari jaraknya: 5\n",
            "Titik: \n",
            " [[53, 70], [90, 50], [78, 6], [84, 39], [100, 74]]\n",
            "Titik: [53, 70] Titik: [90, 50]   42.05948168962618\n",
            "Titik: [53, 70] Titik: [78, 6]   68.70953354520753\n",
            "Titik: [53, 70] Titik: [84, 39]   43.840620433565945\n",
            "Titik: [53, 70] Titik: [100, 74]   47.16990566028302\n",
            "Titik: [90, 50] Titik: [78, 6]   45.60701700396552\n",
            "Titik: [90, 50] Titik: [84, 39]   12.529964086141668\n",
            "Titik: [90, 50] Titik: [100, 74]   26.0\n",
            "Titik: [78, 6] Titik: [84, 39]   33.54101966249684\n",
            "Titik: [78, 6] Titik: [100, 74]   71.47027354082255\n",
            "Titik: [84, 39] Titik: [100, 74]   38.48376280978771\n",
            "Jarak terdekat: \n",
            " 12.529964086141668\n"
          ]
        }
      ]
    },
    {
      "cell_type": "code",
      "source": [
        "import matplotlib.pyplot as plt\n",
        "\n",
        "from math import sqrt\n",
        "from random import randint\n",
        "\n",
        "titik = []\n",
        "\n",
        "n = int(input('Masukkan jumlah titik yang ingin Anda cari jaraknya: '))\n",
        "\n",
        "for i in range(n):\n",
        "    titik.append([randint(0, 100), randint(0, 100)])\n",
        "\n",
        "print(\"Titik: \\n\", titik)\n",
        "\n",
        "def hitung_jarak(lis):\n",
        "    lis_jarak = []\n",
        "\n",
        "    for i in range(len(lis) - 1):\n",
        "        for j in range(i + 1, len(lis)):\n",
        "            jarak = sqrt((lis[i][0] - lis[j][0]) ** 2 + (lis[i][1] - lis[j][1]) ** 2)\n",
        "            lis_jarak.append(jarak)\n",
        "            print(\"Titik:\", lis[i], \"Titik:\", lis[j], ' ', jarak)\n",
        "\n",
        "    return min(lis_jarak)\n",
        "\n",
        "print('Jarak terdekat: \\n', hitung_jarak(titik))\n",
        "\n",
        "# Menampilkan titik pada plot\n",
        "x = [point[0] for point in titik]\n",
        "y = [point[1] for point in titik]\n",
        "\n",
        "plt.scatter(x, y)\n",
        "plt.xlabel('Koordinat X')\n",
        "plt.ylabel('Koordinat Y')\n",
        "plt.title('Plot Titik')\n",
        "plt.grid(True)\n",
        "plt.show()\n"
      ],
      "metadata": {
        "colab": {
          "base_uri": "https://localhost:8080/",
          "height": 611
        },
        "id": "33aKVSFCdiBs",
        "outputId": "95a80385-ad21-4b20-d5b4-d36e88c71918"
      },
      "execution_count": 22,
      "outputs": [
        {
          "output_type": "stream",
          "name": "stdout",
          "text": [
            "Masukkan jumlah titik yang ingin Anda cari jaraknya: 3\n",
            "Titik: \n",
            " [[5, 67], [69, 37], [10, 31]]\n",
            "Titik: [5, 67] Titik: [69, 37]   70.68238818828917\n",
            "Titik: [5, 67] Titik: [10, 31]   36.345563690772494\n",
            "Titik: [69, 37] Titik: [10, 31]   59.30430001273095\n",
            "Jarak terdekat: \n",
            " 36.345563690772494\n"
          ]
        },
        {
          "output_type": "display_data",
          "data": {
            "text/plain": [
              "<Figure size 640x480 with 1 Axes>"
            ],
            "image/png": "[encoded data removed]"
          },
          "metadata": {}
        }
      ]
    },
    {
      "cell_type": "markdown",
      "source": [
        "#BRUTE FORCE MAXIMUM"
      ],
      "metadata": {
        "id": "foZcTVeLpgMw"
      }
    },
    {
      "cell_type": "code",
      "source": [
        "def find_maximum(lst):\n",
        "    max_val = None\n",
        "\n",
        "    for el in lst:\n",
        "        if max_val is None or el > max_val:\n",
        "            max_val = el\n",
        "\n",
        "    return max_val\n",
        "\n",
        "test_scores = [88, 93, 75, 100, 80, 67, 71, 92, 90, 83]\n",
        "print(find_maximum(test_scores))  # returns 100\n"
      ],
      "metadata": {
        "id": "AUy3sXtEpQkm"
      },
      "execution_count": null,
      "outputs": []
    },
    {
      "cell_type": "markdown",
      "source": [
        "# BRUTE FORCE BUBBLE SORT"
      ],
      "metadata": {
        "id": "30NgeQbQpu-5"
      }
    },
    {
      "cell_type": "code",
      "source": [
        "def bubble_sort(alist):\n",
        "    for passnum in range(len(alist) - 1, 0, -1):\n",
        "        for i in range(passnum):\n",
        "            if alist[i] > alist[i + 1]:\n",
        "                temp = alist[i]\n",
        "                alist[i] = alist[i + 1]\n",
        "                alist[i + 1] = temp\n",
        "\n",
        "alist = [54, 26, 93, 17, 77, 31, 44, 55, 20]\n",
        "bubble_sort(alist)\n",
        "print(alist)"
      ],
      "metadata": {
        "id": "9G7HrlRppifB"
      },
      "execution_count": null,
      "outputs": []
    },
    {
      "cell_type": "markdown",
      "source": [
        "#BRUTE FORECE SEQUENTIAL SEARCH"
      ],
      "metadata": {
        "id": "DNfFjT5dqCzh"
      }
    },
    {
      "cell_type": "code",
      "source": [
        "def sequential_search(dlist, item):\n",
        "    pos = 0\n",
        "    found = False\n",
        "\n",
        "    while pos < len(dlist) and not found:\n",
        "        if dlist[pos] == item:\n",
        "            found = True\n",
        "        else:\n",
        "            pos = pos + 1\n",
        "\n",
        "    return found, pos\n",
        "\n",
        "print(sequential_search([11, 23, 58, 31, 56, 77, 43, 12, 65, 19], 31))\n"
      ],
      "metadata": {
        "id": "TeiXeqqNpzUO"
      },
      "execution_count": null,
      "outputs": []
    },
    {
      "cell_type": "markdown",
      "source": [
        "#BRUTE FORCE PANGKAT"
      ],
      "metadata": {
        "id": "rrjohF32qjqI"
      }
    },
    {
      "cell_type": "code",
      "source": [
        "bilangan = int(input('Masukkan bilangan: '))\n",
        "pangkat = int(input('Masukkan pangkat: '))\n",
        "\n",
        "def hitung_pangkat(bilangan, pangkat):\n",
        "    if pangkat > 1:\n",
        "        return bilangan * hitung_pangkat(bilangan, pangkat - 1)\n",
        "    return bilangan\n",
        "\n",
        "hasil = hitung_pangkat(bilangan, pangkat)\n",
        "\n",
        "print(f'Hasil = {hasil}')"
      ],
      "metadata": {
        "id": "VMwJ-Mt9qF6q"
      },
      "execution_count": null,
      "outputs": []
    },
    {
      "cell_type": "markdown",
      "source": [
        "#BRUTE FORCE FAKTORIAL"
      ],
      "metadata": {
        "id": "xbFi8f_oqmEQ"
      }
    },
    {
      "cell_type": "code",
      "source": [
        "n = int(input(\"Masukkan nilai n: \"))\n",
        "\n",
        "def hitung_faktorial(n):\n",
        "    if n > 2:\n",
        "        return n * hitung_faktorial(n - 1)\n",
        "    return 2\n",
        "\n",
        "faktorial = hitung_faktorial(n)\n",
        "print(f'{n}! = {faktorial}')\n"
      ],
      "metadata": {
        "id": "-TNcgI6PqY49"
      },
      "execution_count": null,
      "outputs": []
    }
  ]
}