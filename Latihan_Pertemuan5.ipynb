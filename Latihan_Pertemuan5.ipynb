{
  "nbformat": 4,
  "nbformat_minor": 0,
  "metadata": {
    "colab": {
      "provenance": [],
      "authorship_tag": "ABX9TyMA9yoLcljHceIeoDT/zSIJ",
      "include_colab_link": true
    },
    "kernelspec": {
      "name": "python3",
      "display_name": "Python 3"
    },
    "language_info": {
      "name": "python"
    }
  },
  "cells": [
    {
      "cell_type": "markdown",
      "metadata": {
        "id": "view-in-github",
        "colab_type": "text"
      },
      "source": [
        "<a href=\"https://colab.research.google.com/github/MuhammadFarrasThohari/Desain-dan-Analisis-Algoritma/blob/master/Latihan_Pertemuan5.ipynb\" target=\"_parent\"><img src=\"https://colab.research.google.com/assets/colab-badge.svg\" alt=\"Open In Colab\"/></a>"
      ]
    },
    {
      "cell_type": "markdown",
      "source": [
        "# Inversion\n"
      ],
      "metadata": {
        "id": "tyNI5SWxApsj"
      }
    },
    {
      "cell_type": "code",
      "execution_count": null,
      "metadata": {
        "colab": {
          "base_uri": "https://localhost:8080/"
        },
        "id": "hGW2KYV38r0F",
        "outputId": "f5821426-8585-4cc2-9916-bf2bbce2ad50"
      },
      "outputs": [
        {
          "output_type": "stream",
          "name": "stdout",
          "text": [
            "6\n"
          ]
        }
      ],
      "source": [
        "def countInversion(arr):\n",
        "  result = 0\n",
        "  for i in range(len(arr)):\n",
        "    for j in range(i+1, len(arr)):\n",
        "      if arr[i]>arr[j]:\n",
        "        result +=1\n",
        "  return result\n",
        "\n",
        "\n",
        "arr = [21, 70, 36, 14, 25]\n",
        "result = countInversion(arr)\n",
        "print(result)"
      ]
    },
    {
      "cell_type": "code",
      "source": [
        "arr = [3, 7, 5, 2, 1, 8, 9]\n",
        "total = 0\n",
        "for i in range (len(arr)):\n",
        "  total = total + arr[i]\n",
        "\n",
        "print(total)"
      ],
      "metadata": {
        "colab": {
          "base_uri": "https://localhost:8080/"
        },
        "id": "o2hDFTuxAol3",
        "outputId": "b7696e54-18f0-458f-ce57-e17aa69b6797"
      },
      "execution_count": null,
      "outputs": [
        {
          "output_type": "stream",
          "name": "stdout",
          "text": [
            "35\n"
          ]
        }
      ]
    },
    {
      "cell_type": "markdown",
      "source": [
        "#MinMaks (divide-conquer)"
      ],
      "metadata": {
        "id": "6SJGQYrnDGsC"
      }
    },
    {
      "cell_type": "code",
      "source": [
        "def divideAndConquer_Max(arr, ind, len):\n",
        "  maximum = -1\n",
        "\n",
        "  if(ind >= len -2):\n",
        "    if (arr[ind] > arr[ind+1]):\n",
        "      return arr[ind]\n",
        "    else:\n",
        "      return arr[ind + 1]\n",
        "\n",
        "  maximum = divideAndConquer_Max(arr, ind + 1, len)\n",
        "\n",
        "  if (arr[ind] > maximum):\n",
        "    return arr[ind]\n",
        "  else:\n",
        "    return maximum\n",
        "\n",
        "def divideAndConquer_Min(arr, ind, len):\n",
        "  minimum = 0;\n",
        "  if(ind >= len -2):\n",
        "    if (arr[ind] < arr[ind+1]):\n",
        "      return arr[ind]\n",
        "    else:\n",
        "      return arr[ind + 1]\n",
        "\n",
        "  minimum = divideAndConquer_Min(arr, ind + 1, len)\n",
        "\n",
        "  if (arr[ind] < minimum):\n",
        "    return arr[ind]\n",
        "  else:\n",
        "    return minimum\n",
        "\n",
        "if __name__ == '__main__': # <- sebagai main function\n",
        "  minimum, maximm = 0, -1\n",
        "\n",
        "  arr = [4,12,23,9,21,1,35,2,24]\n",
        "\n",
        "  maximum = divideAndConquer_Max(arr, 0, 9)\n",
        "  minimum = divideAndConquer_Min(arr, 0, 9)\n",
        "\n",
        "  print(\"Minimum number in the array is: \", minimum)\n",
        "  print(\"Maximum number in the array is: \", maximum)"
      ],
      "metadata": {
        "colab": {
          "base_uri": "https://localhost:8080/"
        },
        "id": "2tG6g7V9BCE2",
        "outputId": "e1cb57d9-a678-44bc-95f3-b81100bc142e"
      },
      "execution_count": null,
      "outputs": [
        {
          "output_type": "stream",
          "name": "stdout",
          "text": [
            "Minimum number in the array is:  1\n",
            "Maximum number in the array is:  35\n"
          ]
        }
      ]
    },
    {
      "cell_type": "markdown",
      "source": [
        "#Merge-Sort"
      ],
      "metadata": {
        "id": "sYcNYWCXPtMF"
      }
    },
    {
      "cell_type": "code",
      "source": [
        "def mergeSort(array):\n",
        "  if len(array) > 1:\n",
        "    r = len(array) // 2\n",
        "    L = array[:r]\n",
        "    M = array[r:]\n",
        "\n",
        "    mergeSort(L)\n",
        "    mergeSort(M)\n",
        "\n",
        "    i = j = k = 0\n",
        "\n",
        "    while i < len(L) and j < len(M):\n",
        "      if L[i] < M[j]:\n",
        "        array[k] = L[i]\n",
        "        i += 1\n",
        "      else:\n",
        "        array[k] = M[j]\n",
        "        j += 1\n",
        "      k += 1\n",
        "\n",
        "\n",
        "    while i < len(L):\n",
        "      array[k] = L[i]\n",
        "      i += 1\n",
        "      k += 1\n",
        "\n",
        "    while j < len(M):\n",
        "      array[k] = M[j]\n",
        "      j += 1\n",
        "      k += 1\n",
        "\n",
        "def printList(array):\n",
        "  for i in range(len(array)):\n",
        "    print(array[i], end = \" \")\n",
        "  print()\n",
        "\n",
        "\n",
        "if __name__ == '__main__':\n",
        "  array = [4,12,23,9,21,1,35,2,24]\n",
        "\n",
        "  mergeSort(array)\n",
        "\n",
        "  print(\"sorted array is: \")\n",
        "  printList(array)"
      ],
      "metadata": {
        "colab": {
          "base_uri": "https://localhost:8080/"
        },
        "id": "XIggj13HNgCr",
        "outputId": "fceb2b2b-6d0c-435c-e68a-ea00859a1b9b"
      },
      "execution_count": null,
      "outputs": [
        {
          "output_type": "stream",
          "name": "stdout",
          "text": [
            "sorted array is: \n",
            "1 2 4 9 12 21 23 24 35 \n"
          ]
        }
      ]
    },
    {
      "cell_type": "code",
      "source": [
        "def partition(array, low, high):\n",
        "  pivot = array[high]\n",
        "  i = low - 1\n",
        "\n",
        "  for j in range (low, high):\n",
        "    if array[j] <= pivot:\n",
        "      i = i + 1\n",
        "      (array[i], array[j]) = (array[j], array[i])\n",
        "\n",
        "  (array[i + 1], array[high]) = (array[high], array[i + 1])\n",
        "\n",
        "  return i + 1\n",
        "\n",
        "def quickSort(array, low, high):\n",
        "  if low < high:\n",
        "    pi = partition(array, low, high)\n",
        "    quickSort(array, low, pi - 1)\n",
        "    quickSort(array, pi + 1, high)\n",
        "\n",
        "\n",
        "data = [4,12,23,9,21,1,35,2,24]\n",
        "print(\"Unsorted Array\")\n",
        "print(data)\n",
        "\n",
        "size = len(data)\n",
        "\n",
        "quickSort(data, 0, size - 1)\n",
        "\n",
        "print(\"Sorted Array = \")\n",
        "print(data)p"
      ],
      "metadata": {
        "colab": {
          "base_uri": "https://localhost:8080/"
        },
        "id": "3twnMiMqVZCa",
        "outputId": "4c06f6f9-9350-4d3a-ad0f-a23ed204ebad"
      },
      "execution_count": null,
      "outputs": [
        {
          "output_type": "stream",
          "name": "stdout",
          "text": [
            "Unsorted Array\n",
            "[4, 12, 23, 9, 21, 1, 35, 2, 24]\n",
            "Sorted Array = \n",
            "[1, 2, 4, 9, 12, 21, 23, 24, 35]\n"
          ]
        }
      ]
    },
    {
      "cell_type": "markdown",
      "source": [
        "#IMPLEMENTASI ALGORITMA"
      ],
      "metadata": {
        "id": "7e8qcC8WdiDB"
      }
    },
    {
      "cell_type": "code",
      "source": [
        "#Tanpa menggunakan Divide and Conquer\n",
        "\n",
        "def maxSubSum(arr):\n",
        "  max_so_far = 0\n",
        "  max_ending_here = 0\n",
        "  for i in range(len(arr)):\n",
        "    max_ending_here += arr[i]\n",
        "    if max_ending_here>max_so_far:\n",
        "      max_so_far = max_ending_here\n",
        "    if max_ending_here<0:\n",
        "      max_ending_here = 0\n",
        "  return max_so_far\n",
        "\n",
        "\n",
        "arr = [-2,-5,6,-2,-3,1,5,-6]\n",
        "result=maxSubSum(arr)\n",
        "print(result)\n"
      ],
      "metadata": {
        "colab": {
          "base_uri": "https://localhost:8080/"
        },
        "id": "Sij-i1qycDUl",
        "outputId": "d58e461c-3ad2-4b5a-b7fa-bc3c44af236a"
      },
      "execution_count": null,
      "outputs": [
        {
          "output_type": "stream",
          "name": "stdout",
          "text": [
            "7\n"
          ]
        }
      ]
    },
    {
      "cell_type": "code",
      "source": [
        "#Menggunakan Divide and Conquer\n",
        "def MaxCrossingSum(arr, low, mid, high):\n",
        "  result = 0; leftSum=float('-infinity')\n",
        "  for i in range(mid, low-1, -1):\n",
        "    result+=arr[i]\n",
        "    if result>leftSum:\n",
        "      leftSum = result\n",
        "\n",
        "  result = 0; rightSum=float('-infinity')\n",
        "  for i in range(mid+1, high+1):\n",
        "    result += arr[i]\n",
        "    if result > rightSum:\n",
        "      rightSum=result\n",
        "  return leftSum + rightSum\n",
        "\n",
        "def maxSum(arr,low,high):\n",
        "  if low == high:\n",
        "    return arr[low]\n",
        "  mid = (low+high)//2\n",
        "  return max(maxSum(arr,low,mid), maxSum(arr, mid+1, high), MaxCrossingSum(arr,low,mid,high))\n",
        "\n",
        "\n",
        "arr = [-2,-5,6,-2,-3,1,5,-6]\n",
        "result=maxSum(arr,0,len(arr)-1)\n",
        "print(result)"
      ],
      "metadata": {
        "colab": {
          "base_uri": "https://localhost:8080/"
        },
        "id": "SXoQHxGEd_71",
        "outputId": "374c42b0-556d-4f57-c0f8-36a13c464eb2"
      },
      "execution_count": null,
      "outputs": [
        {
          "output_type": "stream",
          "name": "stdout",
          "text": [
            "7\n"
          ]
        }
      ]
    },
    {
      "cell_type": "code",
      "source": [
        "def longestCommonPrefix(a):\n",
        "  size = len(a)\n",
        "  if(size == 0):\n",
        "    return \"\"\n",
        "\n",
        "  if(size == 1):\n",
        "    return[0]\n",
        "\n",
        "  a.sort()\n",
        "\n",
        "  end = min(len(a[0]), len(a[size - 1]))\n",
        "\n",
        "  i = 0\n",
        "  while (i< end and a[0][i] == a[size - 1][i]):\n",
        "    i += 1\n",
        "\n",
        "  pre = a[0][0:i]\n",
        "  return pre\n",
        "\n",
        "arr = [\"geeksforgeeks\",\"geeks\",\"geek\", \"geezer\"]\n",
        "result= longestCommonPrefix(arr)\n",
        "print(result)"
      ],
      "metadata": {
        "colab": {
          "base_uri": "https://localhost:8080/"
        },
        "id": "Y8kK2KEYjnxi",
        "outputId": "bc5417a0-853e-45a4-9f28-ba5469b44c15"
      },
      "execution_count": null,
      "outputs": [
        {
          "output_type": "stream",
          "name": "stdout",
          "text": [
            "gee\n"
          ]
        }
      ]
    },
    {
      "cell_type": "markdown",
      "source": [
        "#MEDIAN ARRAY DENGAN DIVIDE AND CONQUER"
      ],
      "metadata": {
        "id": "8ycW0eCOpQgN"
      }
    },
    {
      "cell_type": "code",
      "source": [
        "def medOfArray(arr1,arr2,n):\n",
        "    m1=-1\n",
        "    m2=-1\n",
        "    count=0\n",
        "    i=j=0\n",
        "    while count<n+1:\n",
        "        count+=1\n",
        "        if i==n:\n",
        "            m1=m2\n",
        "            m2=arr2[0]\n",
        "            break\n",
        "        if j==n:\n",
        "            m1=m2\n",
        "            m2=arr1[0]\n",
        "            break\n",
        "        if arr1[i]<arr2[j]:\n",
        "            m1=m2\n",
        "            m2=arr1[i]\n",
        "            i+=1\n",
        "        else:\n",
        "            m1=m2\n",
        "            m2=arr2[j]\n",
        "            j+=1\n",
        "    return (m1+m2)//2\n",
        "\n",
        "arr1 = [1,12,15,26,38]\n",
        "arr2 = [2,13,17,30,45]\n",
        "\n",
        "print(medOfArray(arr1,arr2,len(arr1)))"
      ],
      "metadata": {
        "id": "wCt0j0rek5uh",
        "colab": {
          "base_uri": "https://localhost:8080/"
        },
        "outputId": "24eb235d-43c0-4c48-f977-a771a4f385cc"
      },
      "execution_count": null,
      "outputs": [
        {
          "output_type": "stream",
          "name": "stdout",
          "text": [
            "16\n"
          ]
        }
      ]
    },
    {
      "cell_type": "markdown",
      "source": [
        "#MEDIAN DUA ARRAY DENGAN DIVIDE AND CONQUER"
      ],
      "metadata": {
        "id": "0Aq4g4Zdpamd"
      }
    },
    {
      "cell_type": "code",
      "source": [
        "def Solution(arr):\n",
        "    n = len(arr)\n",
        "\n",
        "    if n % 2 == 0:\n",
        "        z = n//2\n",
        "        e = arr[z]\n",
        "        q = arr[z-1]\n",
        "        ans = (e+q) /2\n",
        "        return ans\n",
        "    else:\n",
        "        z = n//2\n",
        "        ans = arr[z]\n",
        "        return ans\n",
        "\n",
        "arr1 = [-5,3,6,12,15]\n",
        "arr2 = [-12,-10,-6,-3,4,10]\n",
        "arr3 = arr1 + arr2\n",
        "\n",
        "arr3.sort()\n",
        "print(\"Median = \",Solution(arr3))"
      ],
      "metadata": {
        "id": "kbFktiRHphrF"
      },
      "execution_count": null,
      "outputs": []
    },
    {
      "cell_type": "markdown",
      "source": [
        "#FLOOR SORTED ARRAY"
      ],
      "metadata": {
        "id": "0v728vWkpqut"
      }
    },
    {
      "cell_type": "code",
      "source": [
        "def floorSorted(arr,low,high,x):\n",
        "    if low>high:\n",
        "        return -1\n",
        "    if arr[low]>x:\n",
        "        return -1\n",
        "    if arr[high]<=x:\n",
        "        return arr[high]\n",
        "\n",
        "    mid=(low+high//2)\n",
        "    if arr[mid]==x:\n",
        "        return arr[mid]\n",
        "    if mid>0 and x>=arr[mid-1] and arr[mid]>x:\n",
        "        return arr[mid-1]\n",
        "    if mid<high and x <arr[mid+1] and x>=arr[mid]:\n",
        "        return arr[mid]\n",
        "    if x>arr[mid]:\n",
        "        return floorSorted(arr,mid+1,high,x)\n",
        "    else:\n",
        "        return floorSorted(arr,low,mid-1,x)\n",
        "\n",
        "arr = [1,2,8,10,12,14,19]\n",
        "x=5\n",
        "print(floorSorted(arr,0,len(arr)-1,x))"
      ],
      "metadata": {
        "colab": {
          "base_uri": "https://localhost:8080/"
        },
        "id": "gDHyai1kpvu9",
        "outputId": "1d1c8b9a-1225-48ae-efca-f34f74e36cd8"
      },
      "execution_count": null,
      "outputs": [
        {
          "output_type": "stream",
          "name": "stdout",
          "text": [
            "2\n"
          ]
        }
      ]
    },
    {
      "cell_type": "markdown",
      "source": [
        "#NILAI TERDEKAT DENGAN DIVIDE AND CONQUER"
      ],
      "metadata": {
        "id": "fxHTuhkIp2hW"
      }
    },
    {
      "cell_type": "code",
      "source": [
        "def closest(arr,low,high,x):\n",
        "    if low>high:\n",
        "        return -1\n",
        "    if arr[high]<=x:\n",
        "        return arr[high]\n",
        "    if arr[low]>=x:\n",
        "        return arr[low]\n",
        "    mid=(low+high)//2\n",
        "    if arr[mid]==x:\n",
        "        return arr[mid]\n",
        "    abs_mid=abs(arr[mid]-x)\n",
        "    if mid>0:\n",
        "        abs_left=abs(arr[mid-1]-x)\n",
        "        if abs_left<abs_mid:\n",
        "            return closest(arr,mid+1,high,x)\n",
        "\n",
        "    return arr[mid]\n",
        "\n",
        "arr = [2,5,6,7,8,8,9]\n",
        "x = 9\n",
        "print(closest(arr,0,len(arr)-1,x))"
      ],
      "metadata": {
        "id": "Heg9CY8Gp_L9",
        "colab": {
          "base_uri": "https://localhost:8080/"
        },
        "outputId": "feeec162-1074-4a7e-bced-b23374353c04"
      },
      "execution_count": 2,
      "outputs": [
        {
          "output_type": "stream",
          "name": "stdout",
          "text": [
            "9\n"
          ]
        }
      ]
    },
    {
      "cell_type": "code",
      "source": [
        "#Cara lain dari mencari nilai terdekat\n",
        "def findClosest(lst,k):\n",
        "    lst.sort()\n",
        "    closest_num = lst[0]\n",
        "    for num in lst:\n",
        "        if abs(num-k) < abs(closest_num-k):\n",
        "            closest_num=num\n",
        "        if num>k:\n",
        "            break\n",
        "        return closest_num\n",
        "lst = [3.64,5.2,9.42,9.35,8.5,8]\n",
        "k = 9.1\n",
        "print(findClosest(lst,k))"
      ],
      "metadata": {
        "colab": {
          "base_uri": "https://localhost:8080/"
        },
        "id": "oCpiOIUgeHbc",
        "outputId": "1e24ed76-64eb-45c0-ac02-ab0feb720387"
      },
      "execution_count": 1,
      "outputs": [
        {
          "output_type": "stream",
          "name": "stdout",
          "text": [
            "3.64\n"
          ]
        }
      ]
    },
    {
      "cell_type": "markdown",
      "source": [
        "#FIXED POINT DENGAN DIVIDE AND CONQUER"
      ],
      "metadata": {
        "id": "oFcP8K4TeYV1"
      }
    },
    {
      "cell_type": "code",
      "source": [
        "def fixedPoint(arr,low,high):\n",
        "    if low>high:\n",
        "        return -1\n",
        "    if arr[high]==[high]:\n",
        "        return arr[high]\n",
        "    if arr[low]==low:\n",
        "        return arr[low]\n",
        "    mid=(low+high)//2\n",
        "    if arr[mid]==mid:\n",
        "        return arr[mid]\n",
        "    if mid>arr[mid]:\n",
        "        return fixedPoint(arr,mid+1,high)\n",
        "    else:\n",
        "        return fixedPoint(arr,low,mid-1)\n",
        "\n",
        "arr = [9,1,4,5,2]\n",
        "print(fixedPoint(arr,1,len(arr)-1))"
      ],
      "metadata": {
        "colab": {
          "base_uri": "https://localhost:8080/"
        },
        "id": "SUa1V3lXectc",
        "outputId": "06855b9a-f77d-43bb-a652-fcfdad56ccee"
      },
      "execution_count": 3,
      "outputs": [
        {
          "output_type": "stream",
          "name": "stdout",
          "text": [
            "1\n"
          ]
        }
      ]
    }
  ]
}