{
  "nbformat": 4,
  "nbformat_minor": 0,
  "metadata": {
    "colab": {
      "provenance": [],
      "authorship_tag": "ABX9TyNM3jGOVoNj/2+0azIAkkQp",
      "include_colab_link": true
    },
    "kernelspec": {
      "name": "python3",
      "display_name": "Python 3"
    },
    "language_info": {
      "name": "python"
    }
  },
  "cells": [
    {
      "cell_type": "markdown",
      "metadata": {
        "id": "view-in-github",
        "colab_type": "text"
      },
      "source": [
        "<a href=\"https://colab.research.google.com/github/MuhammadFarrasThohari/Desain-dan-Analisis-Algoritma/blob/master/Pertemuan_11_ipnyb.ipynb\" target=\"_parent\"><img src=\"https://colab.research.google.com/assets/colab-badge.svg\" alt=\"Open In Colab\"/></a>"
      ]
    },
    {
      "cell_type": "code",
      "execution_count": null,
      "metadata": {
        "colab": {
          "base_uri": "https://localhost:8080/"
        },
        "id": "PtT3rvWJXN5y",
        "outputId": "0bf0c079-c9a9-4ef0-d588-643cf6d96945"
      },
      "outputs": [
        {
          "output_type": "stream",
          "name": "stdout",
          "text": [
            "{'a': ['b', 'c'], 'b': ['a', 'd'], 'c': ['a', 'd'], 'd': ['e'], 'e': ['d']}\n"
          ]
        }
      ],
      "source": [
        "graph = {\"a\" : [\"b\", \"c\"],\n",
        "         \"b\" : [\"a\", \"d\"],\n",
        "         \"c\" : [\"a\", \"d\"],\n",
        "         \"d\" : [\"b\",\"c\",\"e\"],\n",
        "         \"e\" : [\"d\"]}\n",
        "\n",
        "print(graph)"
      ]
    },
    {
      "cell_type": "code",
      "source": [
        "graph = {\"t\": [\"u\", \"w\"],\n",
        "         \"u\": [\"t\", \"v\"],\n",
        "         \"v\": [\"u\", \"x\"],\n",
        "         \"w\": [\"t\", \"x\", \"z\"],\n",
        "         \"x\": [\"v\", \"w\", \"s\"],\n",
        "         \"z\": [\"w\"],\n",
        "         \"s\": [\"s\"]}\n",
        "\n",
        "print(graph)\n",
        "\n",
        "print(list(graph.keys()))"
      ],
      "metadata": {
        "colab": {
          "base_uri": "https://localhost:8080/"
        },
        "id": "_Wxmt5fWYMbv",
        "outputId": "a3f8c96f-dd95-4f73-947c-613d1e901cc2"
      },
      "execution_count": null,
      "outputs": [
        {
          "output_type": "stream",
          "name": "stdout",
          "text": [
            "{'t': ['u', 'w'], 'u': ['t', 'v'], 'v': ['u', 'x'], 'w': ['t', 'x', 'z'], 'x': ['v', 'w', 's'], 'z': ['w'], 's': ['s']}\n",
            "['t', 'u', 'v', 'w', 'x', 'z', 's']\n"
          ]
        }
      ]
    },
    {
      "cell_type": "code",
      "source": [
        "graph = {\"r\": [\"l\", \"o\"],\n",
        "         \"o\": [\"r\", \"p\", \"m\"],\n",
        "         \"m\": [\"o\", \"n\"],\n",
        "         \"n\": [\"m\", \"p\"],\n",
        "         \"l\": [\"p\", \"r\"]}\n",
        "\n",
        "print(graph)\n",
        "print(list(graph.keys()))"
      ],
      "metadata": {
        "colab": {
          "base_uri": "https://localhost:8080/"
        },
        "id": "Q1LWhrsAYzpx",
        "outputId": "ee50d7d6-7afe-459d-c361-71dee27954be"
      },
      "execution_count": null,
      "outputs": [
        {
          "output_type": "stream",
          "name": "stdout",
          "text": [
            "{'r': ['l', 'o'], 'o': ['r', 'p', 'm'], 'm': ['o', 'n'], 'n': ['m', 'p'], 'l': ['p', 'r']}\n",
            "['r', 'o', 'm', 'n', 'l']\n"
          ]
        }
      ]
    },
    {
      "cell_type": "code",
      "source": [
        "class Graph:\n",
        "  def __init__(self, gdict = None):\n",
        "    if gdict is None:\n",
        "      gdict = {}\n",
        "    self.gdict = gdict\n",
        "\n",
        "  def getVertices(self):\n",
        "    return list(self.gdict.keys())\n",
        "\n",
        "  def addVertices(self, vrtx):\n",
        "    if vrtx not in self.gdict:\n",
        "      self.gdict[vrtx] = []\n",
        "\n",
        "  def edges(self):\n",
        "    return self.findEdges()\n",
        "\n",
        "  def findEdges(self):\n",
        "    edgename = []\n",
        "    for vrtx in self.gdict:\n",
        "      for nxvrtx in self.gdict[vrtx]:\n",
        "        if {nxvrtx, vrtx} not in edgename:\n",
        "          edgename.append({vrtx, nxvrtx})\n",
        "    return edgename\n",
        "\n",
        "  def addEdges(self, edge):\n",
        "    edge = set(edge)\n",
        "    (vrtx1, vrtx2) = tuple(edge)\n",
        "    if vrtx1 in self.gdict:\n",
        "      self.gdict[vrtx1].append(vrtx2)\n",
        "    else:\n",
        "      self.gdict[vrtx1] = [vrtx2]\n",
        "\n",
        "graph = {\"t\": [\"u\", \"w\"],\n",
        "         \"u\": [\"t\", \"v\"],\n",
        "         \"v\": [\"u\", \"x\"],\n",
        "         \"w\": [\"t\", \"x\", \"z\"],\n",
        "         \"x\": [\"v\", \"w\", \"s\"],\n",
        "         \"z\": [\"w\"],\n",
        "         \"s\": [\"s\"]}\n",
        "\n",
        "print(\"================ Sebelum tambah vertex dan edge ================\")\n",
        "g = Graph(graph)\n",
        "print(g.getVertices())\n",
        "print(g.edges())\n",
        "\n",
        "print(\"\\n================ Sesudah tambah vertex dan edge ================\")\n",
        "g.addVertices(\"f\")\n",
        "g.addEdges({\"s\", \"f\"})\n",
        "print(g.getVertices())\n",
        "print(g.edges())"
      ],
      "metadata": {
        "colab": {
          "base_uri": "https://localhost:8080/"
        },
        "id": "dtJCtPpyiirr",
        "outputId": "14a3abd5-dafa-471f-d37f-e7c5528e910b"
      },
      "execution_count": null,
      "outputs": [
        {
          "output_type": "stream",
          "name": "stdout",
          "text": [
            "================ Sebelum tambah vertex dan edge ================\n",
            "['t', 'u', 'v', 'w', 'x', 'z', 's']\n",
            "[{'u', 't'}, {'w', 't'}, {'v', 'u'}, {'v', 'x'}, {'w', 'x'}, {'w', 'z'}, {'x', 's'}, {'s'}]\n",
            "\n",
            "================ Sesudah tambah vertex dan edge ================\n",
            "['t', 'u', 'v', 'w', 'x', 'z', 's', 'f']\n",
            "[{'u', 't'}, {'w', 't'}, {'v', 'u'}, {'v', 'x'}, {'w', 'x'}, {'w', 'z'}, {'x', 's'}, {'s'}, {'f', 's'}]\n"
          ]
        }
      ]
    },
    {
      "cell_type": "code",
      "source": [
        "class Graph:\n",
        "  def __init__(self, gdict = None):\n",
        "    if gdict is None:\n",
        "      gdict = {}\n",
        "    self.gdict = gdict\n",
        "\n",
        "  def getVertices(self):\n",
        "    return list(self.gdict.keys())\n",
        "\n",
        "  def addVertices(self, vrtx):\n",
        "    if vrtx not in self.gdict:\n",
        "      self.gdict[vrtx] = []\n",
        "\n",
        "  def edges(self):\n",
        "    return self.findEdges()\n",
        "\n",
        "  def findEdges(self):\n",
        "    edgename = []\n",
        "    for vrtx in self.gdict:\n",
        "      for nxvrtx in self.gdict[vrtx]:\n",
        "        if {nxvrtx, vrtx} not in edgename:\n",
        "          edgename.append({vrtx, nxvrtx})\n",
        "    return edgename\n",
        "\n",
        "  def addEdges(self, edge):\n",
        "    edge = set(edge)\n",
        "    (vrtx1, vrtx2) = tuple(edge)\n",
        "    if vrtx1 in self.gdict:\n",
        "      self.gdict[vrtx1].append(vrtx2)\n",
        "    else:\n",
        "      self.gdict[vrtx1] = [vrtx2]\n",
        "\n",
        "graph = {\"r\": [\"l\", \"o\"],\n",
        "         \"o\": [\"r\", \"p\", \"m\"],\n",
        "         \"m\": [\"o\", \"n\"],\n",
        "         \"n\": [\"m\", \"p\"],\n",
        "         \"p\": [\"l\", \"o\", \"m\"],\n",
        "         \"l\": [\"p\", \"r\"]}\n",
        "\n",
        "print(\"================ Sebelum tambah vertex dan edge ================\")\n",
        "g = Graph(graph)\n",
        "print(g.getVertices())\n",
        "print(g.edges())\n",
        "\n",
        "print(\"\\n================ Sesudah tambah vertex dan edge ================\")\n",
        "g.addVertices(\"f\")\n",
        "g.addEdges({\"l\", \"f\"})\n",
        "print(g.getVertices())\n",
        "print(g.edges())"
      ],
      "metadata": {
        "colab": {
          "base_uri": "https://localhost:8080/"
        },
        "id": "WGW40tZCjGKO",
        "outputId": "731be65e-d100-4ac5-92d8-9e3d7a1d9233"
      },
      "execution_count": null,
      "outputs": [
        {
          "output_type": "stream",
          "name": "stdout",
          "text": [
            "================ Sebelum tambah vertex dan edge ================\n",
            "['r', 'o', 'm', 'n', 'p', 'l']\n",
            "[{'l', 'r'}, {'o', 'r'}, {'p', 'o'}, {'m', 'o'}, {'m', 'n'}, {'p', 'n'}, {'p', 'l'}, {'p', 'm'}]\n",
            "\n",
            "================ Sesudah tambah vertex dan edge ================\n",
            "['r', 'o', 'm', 'n', 'p', 'l', 'f']\n",
            "[{'l', 'r'}, {'o', 'r'}, {'p', 'o'}, {'m', 'o'}, {'m', 'n'}, {'p', 'n'}, {'p', 'l'}, {'p', 'm'}, {'f', 'l'}]\n"
          ]
        }
      ]
    },
    {
      "cell_type": "code",
      "source": [],
      "metadata": {
        "id": "hKuQUEqgphDU"
      },
      "execution_count": null,
      "outputs": []
    },
    {
      "cell_type": "code",
      "source": [
        "graph = {\"t\": [\"u\", \"w\"],\n",
        "         \"u\": [\"t\", \"v\"],\n",
        "         \"v\": [\"u\", \"x\"],\n",
        "         \"w\": [\"t\", \"x\", \"z\"],\n",
        "         \"x\": [\"v\", \"w\", \"s\"],\n",
        "         \"z\": [\"w\"],\n",
        "         \"s\": [\"s\"]}\n",
        "\n",
        "for x in graph[\"t\"]:\n",
        "  print(x)"
      ],
      "metadata": {
        "colab": {
          "base_uri": "https://localhost:8080/"
        },
        "id": "Dn362KhBmm-r",
        "outputId": "4a60bd1c-8591-451f-d474-9ff82bb5e3ed"
      },
      "execution_count": null,
      "outputs": [
        {
          "output_type": "stream",
          "name": "stdout",
          "text": [
            "u\n",
            "w\n"
          ]
        }
      ]
    }
  ]
}